{
  "nbformat": 4,
  "nbformat_minor": 0,
  "metadata": {
    "colab": {
      "provenance": []
    },
    "kernelspec": {
      "name": "python3",
      "display_name": "Python 3"
    },
    "language_info": {
      "name": "python"
    }
  },
  "cells": [
    {
      "cell_type": "markdown",
      "source": [
        "## **DSGuru Week 1 Project \"Personal Finance Management Syetem\"**"
      ],
      "metadata": {
        "id": "CflzqXEHyWRr"
      }
    },
    {
      "cell_type": "code",
      "source": [
        "transactions = [] # an empty list to store income/expense records.\n",
        "balance = 0.0 # a float variable to track yuour total available money.\n",
        "\n",
        "while True:\n",
        "  print(\"\\n------ Personal Finance Management System ---\")\n",
        "  print(\"1. Add Income\")\n",
        "  print(\"2. Add Expense\")\n",
        "  print(\"3. View Transaction History\")\n",
        "  print(\"4. View Balance\")\n",
        "  print(\"5. Exit\")\n",
        "\n",
        "  choice = input(\"Enter your choice (1-5): \")\n",
        "\n",
        "  if choice == '1':\n",
        "    amount = float(input(\"Enter income amount: \"))\n",
        "    category = input(\"Enter income category (e.g., Salary, Freelance): \")\n",
        "    transaction = {\n",
        "         \"type\": \"Income\",\n",
        "         \"amount\": amount,\n",
        "         \"category\": category\n",
        "        }\n",
        "    transactions.append(transaction)\n",
        "    balance += amount\n",
        "    print(\"✅ Income added successfully!\")\n",
        "\n",
        "#🔹 Purpoe:\n",
        "#Takes input for income amount and category\n",
        "#Creates a dictionary for the transaction\n",
        "#Appends it to transactions list\n",
        "#Adds the amount to the balance\n",
        "#Temporary placeholder to break the loop\n",
        "\n",
        "  elif choice == '2':\n",
        "    amount = float(input(\"Enter expense amount: \"))\n",
        "    category = input(\"Enter expense category (e.g., Food, Rent): \")\n",
        "    transaction = {\n",
        "         \"type\": \"Expense\",\n",
        "         \"amount\": amount,\n",
        "         \"category\": category\n",
        "        }\n",
        "    transactions.append(transaction)\n",
        "    balance -= amount\n",
        "    print(\"✅ Expense added successfully!\")\n",
        "\n",
        "#🔹 Purpose:\n",
        "#Takes input for expense amount and category\n",
        "#Creates a dictionary for the transaction\n",
        "#Appends it to transactions list\n",
        "#Subtracts the amount from the balance\n",
        "#Temporary placeholder to break the loop\n",
        "\n",
        "  elif choice == '3':\n",
        "     print(\"\\n📜 Transaction History:\")\n",
        "     if not transactions:\n",
        "        print(\"No transactions found.\")\n",
        "     else:\n",
        "        for t in transactions:\n",
        "            print(f\"{t['type']}: Rs. {t['amount']} | Category: {t['category']}\")\n",
        "\n",
        "#🔹 Purpose:\n",
        "#Loops through the transactions list\n",
        "#Prints each transaction's type, amount, and category\n",
        "#If no transactions, shows a message\n",
        "\n",
        "  elif choice == '4':\n",
        "     print(f\"💰 Current Balance: {balance}\")\n",
        "#🔹 Purpose:\n",
        "#Simply displays the current value of the balance variable.\n",
        "  elif choice == '5':\n",
        "    print(\"🚪 Exiting... Thank you for using the Personal Finance Manager!\")\n",
        "    break\n",
        "\n",
        "#🔹 Purpose:\n",
        "#Ends the loop and exits the program when the user chooses option 5"
      ],
      "metadata": {
        "colab": {
          "base_uri": "https://localhost:8080/"
        },
        "id": "Ndvy4T0uzEIV",
        "outputId": "bdadefa2-2022-41b9-845d-c0255e716d85"
      },
      "execution_count": 6,
      "outputs": [
        {
          "output_type": "stream",
          "name": "stdout",
          "text": [
            "\n",
            "------ Personal Finance Management System ---\n",
            "1. Add Income\n",
            "2. Add Expense\n",
            "3. View Transaction History\n",
            "4. View Balance\n",
            "5. Exit\n",
            "Enter your choice (1-5): 2\n",
            "Enter expense amount: 10000\n",
            "Enter expense category (e.g., Food, Rent): Food\n",
            "✅ Expense added successfully!\n",
            "\n",
            "------ Personal Finance Management System ---\n",
            "1. Add Income\n",
            "2. Add Expense\n",
            "3. View Transaction History\n",
            "4. View Balance\n",
            "5. Exit\n",
            "Enter your choice (1-5): 5\n",
            "🚪 Exiting... Thank you for using the Personal Finance Manager!\n"
          ]
        }
      ]
    }
  ]
}